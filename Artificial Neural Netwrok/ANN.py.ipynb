{
 "cells": [
  {
   "cell_type": "code",
   "execution_count": 1,
   "metadata": {},
   "outputs": [],
   "source": [
    "import pandas as pd\n",
    "import numpy as np\n",
    "import os"
   ]
  },
  {
   "cell_type": "code",
   "execution_count": 2,
   "metadata": {},
   "outputs": [
    {
     "data": {
      "text/plain": [
       "['.ipynb_checkpoints', 'Churn_Modelling.csv', 'Untitled.ipynb']"
      ]
     },
     "execution_count": 2,
     "metadata": {},
     "output_type": "execute_result"
    }
   ],
   "source": [
    "os.listdir()"
   ]
  },
  {
   "cell_type": "code",
   "execution_count": 3,
   "metadata": {},
   "outputs": [],
   "source": [
    "data = pd.read_csv(\"Churn_Modelling.csv\")"
   ]
  },
  {
   "cell_type": "code",
   "execution_count": 4,
   "metadata": {},
   "outputs": [],
   "source": [
    "df = pd.DataFrame(data)"
   ]
  },
  {
   "cell_type": "code",
   "execution_count": 5,
   "metadata": {},
   "outputs": [
    {
     "data": {
      "text/html": [
       "<div>\n",
       "<style scoped>\n",
       "    .dataframe tbody tr th:only-of-type {\n",
       "        vertical-align: middle;\n",
       "    }\n",
       "\n",
       "    .dataframe tbody tr th {\n",
       "        vertical-align: top;\n",
       "    }\n",
       "\n",
       "    .dataframe thead th {\n",
       "        text-align: right;\n",
       "    }\n",
       "</style>\n",
       "<table border=\"1\" class=\"dataframe\">\n",
       "  <thead>\n",
       "    <tr style=\"text-align: right;\">\n",
       "      <th></th>\n",
       "      <th>RowNumber</th>\n",
       "      <th>CustomerId</th>\n",
       "      <th>Surname</th>\n",
       "      <th>CreditScore</th>\n",
       "      <th>Geography</th>\n",
       "      <th>Gender</th>\n",
       "      <th>Age</th>\n",
       "      <th>Tenure</th>\n",
       "      <th>Balance</th>\n",
       "      <th>NumOfProducts</th>\n",
       "      <th>HasCrCard</th>\n",
       "      <th>IsActiveMember</th>\n",
       "      <th>EstimatedSalary</th>\n",
       "      <th>Exited</th>\n",
       "    </tr>\n",
       "  </thead>\n",
       "  <tbody>\n",
       "    <tr>\n",
       "      <td>0</td>\n",
       "      <td>1</td>\n",
       "      <td>15634602</td>\n",
       "      <td>Hargrave</td>\n",
       "      <td>619</td>\n",
       "      <td>France</td>\n",
       "      <td>Female</td>\n",
       "      <td>42</td>\n",
       "      <td>2</td>\n",
       "      <td>0.00</td>\n",
       "      <td>1</td>\n",
       "      <td>1</td>\n",
       "      <td>1</td>\n",
       "      <td>101348.88</td>\n",
       "      <td>1</td>\n",
       "    </tr>\n",
       "    <tr>\n",
       "      <td>1</td>\n",
       "      <td>2</td>\n",
       "      <td>15647311</td>\n",
       "      <td>Hill</td>\n",
       "      <td>608</td>\n",
       "      <td>Spain</td>\n",
       "      <td>Female</td>\n",
       "      <td>41</td>\n",
       "      <td>1</td>\n",
       "      <td>83807.86</td>\n",
       "      <td>1</td>\n",
       "      <td>0</td>\n",
       "      <td>1</td>\n",
       "      <td>112542.58</td>\n",
       "      <td>0</td>\n",
       "    </tr>\n",
       "    <tr>\n",
       "      <td>2</td>\n",
       "      <td>3</td>\n",
       "      <td>15619304</td>\n",
       "      <td>Onio</td>\n",
       "      <td>502</td>\n",
       "      <td>France</td>\n",
       "      <td>Female</td>\n",
       "      <td>42</td>\n",
       "      <td>8</td>\n",
       "      <td>159660.80</td>\n",
       "      <td>3</td>\n",
       "      <td>1</td>\n",
       "      <td>0</td>\n",
       "      <td>113931.57</td>\n",
       "      <td>1</td>\n",
       "    </tr>\n",
       "    <tr>\n",
       "      <td>3</td>\n",
       "      <td>4</td>\n",
       "      <td>15701354</td>\n",
       "      <td>Boni</td>\n",
       "      <td>699</td>\n",
       "      <td>France</td>\n",
       "      <td>Female</td>\n",
       "      <td>39</td>\n",
       "      <td>1</td>\n",
       "      <td>0.00</td>\n",
       "      <td>2</td>\n",
       "      <td>0</td>\n",
       "      <td>0</td>\n",
       "      <td>93826.63</td>\n",
       "      <td>0</td>\n",
       "    </tr>\n",
       "    <tr>\n",
       "      <td>4</td>\n",
       "      <td>5</td>\n",
       "      <td>15737888</td>\n",
       "      <td>Mitchell</td>\n",
       "      <td>850</td>\n",
       "      <td>Spain</td>\n",
       "      <td>Female</td>\n",
       "      <td>43</td>\n",
       "      <td>2</td>\n",
       "      <td>125510.82</td>\n",
       "      <td>1</td>\n",
       "      <td>1</td>\n",
       "      <td>1</td>\n",
       "      <td>79084.10</td>\n",
       "      <td>0</td>\n",
       "    </tr>\n",
       "  </tbody>\n",
       "</table>\n",
       "</div>"
      ],
      "text/plain": [
       "   RowNumber  CustomerId   Surname  CreditScore Geography  Gender  Age  \\\n",
       "0          1    15634602  Hargrave          619    France  Female   42   \n",
       "1          2    15647311      Hill          608     Spain  Female   41   \n",
       "2          3    15619304      Onio          502    France  Female   42   \n",
       "3          4    15701354      Boni          699    France  Female   39   \n",
       "4          5    15737888  Mitchell          850     Spain  Female   43   \n",
       "\n",
       "   Tenure    Balance  NumOfProducts  HasCrCard  IsActiveMember  \\\n",
       "0       2       0.00              1          1               1   \n",
       "1       1   83807.86              1          0               1   \n",
       "2       8  159660.80              3          1               0   \n",
       "3       1       0.00              2          0               0   \n",
       "4       2  125510.82              1          1               1   \n",
       "\n",
       "   EstimatedSalary  Exited  \n",
       "0        101348.88       1  \n",
       "1        112542.58       0  \n",
       "2        113931.57       1  \n",
       "3         93826.63       0  \n",
       "4         79084.10       0  "
      ]
     },
     "execution_count": 5,
     "metadata": {},
     "output_type": "execute_result"
    }
   ],
   "source": [
    "df.head()"
   ]
  },
  {
   "cell_type": "code",
   "execution_count": 6,
   "metadata": {},
   "outputs": [
    {
     "name": "stdout",
     "output_type": "stream",
     "text": [
      "<class 'pandas.core.frame.DataFrame'>\n",
      "RangeIndex: 10000 entries, 0 to 9999\n",
      "Data columns (total 14 columns):\n",
      "RowNumber          10000 non-null int64\n",
      "CustomerId         10000 non-null int64\n",
      "Surname            10000 non-null object\n",
      "CreditScore        10000 non-null int64\n",
      "Geography          10000 non-null object\n",
      "Gender             10000 non-null object\n",
      "Age                10000 non-null int64\n",
      "Tenure             10000 non-null int64\n",
      "Balance            10000 non-null float64\n",
      "NumOfProducts      10000 non-null int64\n",
      "HasCrCard          10000 non-null int64\n",
      "IsActiveMember     10000 non-null int64\n",
      "EstimatedSalary    10000 non-null float64\n",
      "Exited             10000 non-null int64\n",
      "dtypes: float64(2), int64(9), object(3)\n",
      "memory usage: 1.1+ MB\n"
     ]
    }
   ],
   "source": [
    "df.info()"
   ]
  },
  {
   "cell_type": "code",
   "execution_count": 7,
   "metadata": {},
   "outputs": [
    {
     "data": {
      "text/html": [
       "<div>\n",
       "<style scoped>\n",
       "    .dataframe tbody tr th:only-of-type {\n",
       "        vertical-align: middle;\n",
       "    }\n",
       "\n",
       "    .dataframe tbody tr th {\n",
       "        vertical-align: top;\n",
       "    }\n",
       "\n",
       "    .dataframe thead th {\n",
       "        text-align: right;\n",
       "    }\n",
       "</style>\n",
       "<table border=\"1\" class=\"dataframe\">\n",
       "  <thead>\n",
       "    <tr style=\"text-align: right;\">\n",
       "      <th></th>\n",
       "      <th>count</th>\n",
       "      <th>mean</th>\n",
       "      <th>std</th>\n",
       "      <th>min</th>\n",
       "      <th>25%</th>\n",
       "      <th>50%</th>\n",
       "      <th>75%</th>\n",
       "      <th>max</th>\n",
       "    </tr>\n",
       "  </thead>\n",
       "  <tbody>\n",
       "    <tr>\n",
       "      <td>RowNumber</td>\n",
       "      <td>10000.0</td>\n",
       "      <td>5.000500e+03</td>\n",
       "      <td>2886.895680</td>\n",
       "      <td>1.00</td>\n",
       "      <td>2500.75</td>\n",
       "      <td>5.000500e+03</td>\n",
       "      <td>7.500250e+03</td>\n",
       "      <td>10000.00</td>\n",
       "    </tr>\n",
       "    <tr>\n",
       "      <td>CustomerId</td>\n",
       "      <td>10000.0</td>\n",
       "      <td>1.569094e+07</td>\n",
       "      <td>71936.186123</td>\n",
       "      <td>15565701.00</td>\n",
       "      <td>15628528.25</td>\n",
       "      <td>1.569074e+07</td>\n",
       "      <td>1.575323e+07</td>\n",
       "      <td>15815690.00</td>\n",
       "    </tr>\n",
       "    <tr>\n",
       "      <td>CreditScore</td>\n",
       "      <td>10000.0</td>\n",
       "      <td>6.505288e+02</td>\n",
       "      <td>96.653299</td>\n",
       "      <td>350.00</td>\n",
       "      <td>584.00</td>\n",
       "      <td>6.520000e+02</td>\n",
       "      <td>7.180000e+02</td>\n",
       "      <td>850.00</td>\n",
       "    </tr>\n",
       "    <tr>\n",
       "      <td>Age</td>\n",
       "      <td>10000.0</td>\n",
       "      <td>3.892180e+01</td>\n",
       "      <td>10.487806</td>\n",
       "      <td>18.00</td>\n",
       "      <td>32.00</td>\n",
       "      <td>3.700000e+01</td>\n",
       "      <td>4.400000e+01</td>\n",
       "      <td>92.00</td>\n",
       "    </tr>\n",
       "    <tr>\n",
       "      <td>Tenure</td>\n",
       "      <td>10000.0</td>\n",
       "      <td>5.012800e+00</td>\n",
       "      <td>2.892174</td>\n",
       "      <td>0.00</td>\n",
       "      <td>3.00</td>\n",
       "      <td>5.000000e+00</td>\n",
       "      <td>7.000000e+00</td>\n",
       "      <td>10.00</td>\n",
       "    </tr>\n",
       "    <tr>\n",
       "      <td>Balance</td>\n",
       "      <td>10000.0</td>\n",
       "      <td>7.648589e+04</td>\n",
       "      <td>62397.405202</td>\n",
       "      <td>0.00</td>\n",
       "      <td>0.00</td>\n",
       "      <td>9.719854e+04</td>\n",
       "      <td>1.276442e+05</td>\n",
       "      <td>250898.09</td>\n",
       "    </tr>\n",
       "    <tr>\n",
       "      <td>NumOfProducts</td>\n",
       "      <td>10000.0</td>\n",
       "      <td>1.530200e+00</td>\n",
       "      <td>0.581654</td>\n",
       "      <td>1.00</td>\n",
       "      <td>1.00</td>\n",
       "      <td>1.000000e+00</td>\n",
       "      <td>2.000000e+00</td>\n",
       "      <td>4.00</td>\n",
       "    </tr>\n",
       "    <tr>\n",
       "      <td>HasCrCard</td>\n",
       "      <td>10000.0</td>\n",
       "      <td>7.055000e-01</td>\n",
       "      <td>0.455840</td>\n",
       "      <td>0.00</td>\n",
       "      <td>0.00</td>\n",
       "      <td>1.000000e+00</td>\n",
       "      <td>1.000000e+00</td>\n",
       "      <td>1.00</td>\n",
       "    </tr>\n",
       "    <tr>\n",
       "      <td>IsActiveMember</td>\n",
       "      <td>10000.0</td>\n",
       "      <td>5.151000e-01</td>\n",
       "      <td>0.499797</td>\n",
       "      <td>0.00</td>\n",
       "      <td>0.00</td>\n",
       "      <td>1.000000e+00</td>\n",
       "      <td>1.000000e+00</td>\n",
       "      <td>1.00</td>\n",
       "    </tr>\n",
       "    <tr>\n",
       "      <td>EstimatedSalary</td>\n",
       "      <td>10000.0</td>\n",
       "      <td>1.000902e+05</td>\n",
       "      <td>57510.492818</td>\n",
       "      <td>11.58</td>\n",
       "      <td>51002.11</td>\n",
       "      <td>1.001939e+05</td>\n",
       "      <td>1.493882e+05</td>\n",
       "      <td>199992.48</td>\n",
       "    </tr>\n",
       "    <tr>\n",
       "      <td>Exited</td>\n",
       "      <td>10000.0</td>\n",
       "      <td>2.037000e-01</td>\n",
       "      <td>0.402769</td>\n",
       "      <td>0.00</td>\n",
       "      <td>0.00</td>\n",
       "      <td>0.000000e+00</td>\n",
       "      <td>0.000000e+00</td>\n",
       "      <td>1.00</td>\n",
       "    </tr>\n",
       "  </tbody>\n",
       "</table>\n",
       "</div>"
      ],
      "text/plain": [
       "                   count          mean           std          min  \\\n",
       "RowNumber        10000.0  5.000500e+03   2886.895680         1.00   \n",
       "CustomerId       10000.0  1.569094e+07  71936.186123  15565701.00   \n",
       "CreditScore      10000.0  6.505288e+02     96.653299       350.00   \n",
       "Age              10000.0  3.892180e+01     10.487806        18.00   \n",
       "Tenure           10000.0  5.012800e+00      2.892174         0.00   \n",
       "Balance          10000.0  7.648589e+04  62397.405202         0.00   \n",
       "NumOfProducts    10000.0  1.530200e+00      0.581654         1.00   \n",
       "HasCrCard        10000.0  7.055000e-01      0.455840         0.00   \n",
       "IsActiveMember   10000.0  5.151000e-01      0.499797         0.00   \n",
       "EstimatedSalary  10000.0  1.000902e+05  57510.492818        11.58   \n",
       "Exited           10000.0  2.037000e-01      0.402769         0.00   \n",
       "\n",
       "                         25%           50%           75%          max  \n",
       "RowNumber            2500.75  5.000500e+03  7.500250e+03     10000.00  \n",
       "CustomerId       15628528.25  1.569074e+07  1.575323e+07  15815690.00  \n",
       "CreditScore           584.00  6.520000e+02  7.180000e+02       850.00  \n",
       "Age                    32.00  3.700000e+01  4.400000e+01        92.00  \n",
       "Tenure                  3.00  5.000000e+00  7.000000e+00        10.00  \n",
       "Balance                 0.00  9.719854e+04  1.276442e+05    250898.09  \n",
       "NumOfProducts           1.00  1.000000e+00  2.000000e+00         4.00  \n",
       "HasCrCard               0.00  1.000000e+00  1.000000e+00         1.00  \n",
       "IsActiveMember          0.00  1.000000e+00  1.000000e+00         1.00  \n",
       "EstimatedSalary     51002.11  1.001939e+05  1.493882e+05    199992.48  \n",
       "Exited                  0.00  0.000000e+00  0.000000e+00         1.00  "
      ]
     },
     "execution_count": 7,
     "metadata": {},
     "output_type": "execute_result"
    }
   ],
   "source": [
    "df.describe().T"
   ]
  },
  {
   "cell_type": "code",
   "execution_count": 8,
   "metadata": {},
   "outputs": [
    {
     "data": {
      "text/plain": [
       "array(['France', 'Spain', 'Germany'], dtype=object)"
      ]
     },
     "execution_count": 8,
     "metadata": {},
     "output_type": "execute_result"
    }
   ],
   "source": [
    "df.Geography.unique()"
   ]
  },
  {
   "cell_type": "code",
   "execution_count": 9,
   "metadata": {},
   "outputs": [],
   "source": [
    "X = df.iloc[:,3:13].values\n",
    "y = df.iloc[:,13].values"
   ]
  },
  {
   "cell_type": "code",
   "execution_count": 10,
   "metadata": {},
   "outputs": [
    {
     "data": {
      "text/plain": [
       "array([[619, 'France', 'Female', ..., 1, 1, 101348.88],\n",
       "       [608, 'Spain', 'Female', ..., 0, 1, 112542.58],\n",
       "       [502, 'France', 'Female', ..., 1, 0, 113931.57],\n",
       "       ...,\n",
       "       [709, 'France', 'Female', ..., 0, 1, 42085.58],\n",
       "       [772, 'Germany', 'Male', ..., 1, 0, 92888.52],\n",
       "       [792, 'France', 'Female', ..., 1, 0, 38190.78]], dtype=object)"
      ]
     },
     "execution_count": 10,
     "metadata": {},
     "output_type": "execute_result"
    }
   ],
   "source": [
    "X"
   ]
  },
  {
   "cell_type": "code",
   "execution_count": 11,
   "metadata": {},
   "outputs": [],
   "source": [
    "#encoding categorical data\n",
    "from sklearn.preprocessing import LabelEncoder , OneHotEncoder\n",
    "X_1  =LabelEncoder()\n",
    "X[:,1] = X_1.fit_transform(X[:,1])\n",
    "X_2 = LabelEncoder()\n",
    "X[:,2] = X_2.fit_transform(X[:,2])"
   ]
  },
  {
   "cell_type": "code",
   "execution_count": 12,
   "metadata": {},
   "outputs": [
    {
     "name": "stderr",
     "output_type": "stream",
     "text": [
      "C:\\Users\\Afsan\\AppData\\Local\\Continuum\\anaconda3\\lib\\site-packages\\sklearn\\preprocessing\\_encoders.py:415: FutureWarning: The handling of integer data will change in version 0.22. Currently, the categories are determined based on the range [0, max(values)], while in the future they will be determined based on the unique values.\n",
      "If you want the future behaviour and silence this warning, you can specify \"categories='auto'\".\n",
      "In case you used a LabelEncoder before this OneHotEncoder to convert the categories to integers, then you can now use the OneHotEncoder directly.\n",
      "  warnings.warn(msg, FutureWarning)\n",
      "C:\\Users\\Afsan\\AppData\\Local\\Continuum\\anaconda3\\lib\\site-packages\\sklearn\\preprocessing\\_encoders.py:451: DeprecationWarning: The 'categorical_features' keyword is deprecated in version 0.20 and will be removed in 0.22. You can use the ColumnTransformer instead.\n",
      "  \"use the ColumnTransformer instead.\", DeprecationWarning)\n"
     ]
    }
   ],
   "source": [
    "onehotencoder = OneHotEncoder(categorical_features=[1])\n",
    "X=onehotencoder.fit_transform(X).toarray()"
   ]
  },
  {
   "cell_type": "code",
   "execution_count": 13,
   "metadata": {},
   "outputs": [],
   "source": [
    "X = X[:,1:]"
   ]
  },
  {
   "cell_type": "code",
   "execution_count": 14,
   "metadata": {},
   "outputs": [
    {
     "data": {
      "text/plain": [
       "array([[0.0000000e+00, 0.0000000e+00, 6.1900000e+02, ..., 1.0000000e+00,\n",
       "        1.0000000e+00, 1.0134888e+05],\n",
       "       [0.0000000e+00, 1.0000000e+00, 6.0800000e+02, ..., 0.0000000e+00,\n",
       "        1.0000000e+00, 1.1254258e+05],\n",
       "       [0.0000000e+00, 0.0000000e+00, 5.0200000e+02, ..., 1.0000000e+00,\n",
       "        0.0000000e+00, 1.1393157e+05],\n",
       "       ...,\n",
       "       [0.0000000e+00, 0.0000000e+00, 7.0900000e+02, ..., 0.0000000e+00,\n",
       "        1.0000000e+00, 4.2085580e+04],\n",
       "       [1.0000000e+00, 0.0000000e+00, 7.7200000e+02, ..., 1.0000000e+00,\n",
       "        0.0000000e+00, 9.2888520e+04],\n",
       "       [0.0000000e+00, 0.0000000e+00, 7.9200000e+02, ..., 1.0000000e+00,\n",
       "        0.0000000e+00, 3.8190780e+04]])"
      ]
     },
     "execution_count": 14,
     "metadata": {},
     "output_type": "execute_result"
    }
   ],
   "source": [
    "X"
   ]
  },
  {
   "cell_type": "code",
   "execution_count": 15,
   "metadata": {},
   "outputs": [],
   "source": [
    "#splitting\n",
    "from sklearn.model_selection import train_test_split\n",
    "X_train,X_test,y_train,y_test = train_test_split(X,y,test_size=0.25,random_state = 101)"
   ]
  },
  {
   "cell_type": "code",
   "execution_count": 16,
   "metadata": {},
   "outputs": [
    {
     "data": {
      "text/plain": [
       "array([0, 0, 1, ..., 0, 0, 1], dtype=int64)"
      ]
     },
     "execution_count": 16,
     "metadata": {},
     "output_type": "execute_result"
    }
   ],
   "source": [
    "y_test"
   ]
  },
  {
   "cell_type": "code",
   "execution_count": 17,
   "metadata": {},
   "outputs": [
    {
     "name": "stderr",
     "output_type": "stream",
     "text": [
      "Using TensorFlow backend.\n"
     ]
    }
   ],
   "source": [
    "import keras\n",
    "from keras.models import Sequential\n",
    "from keras.layers import Dense"
   ]
  },
  {
   "cell_type": "code",
   "execution_count": 18,
   "metadata": {},
   "outputs": [
    {
     "name": "stdout",
     "output_type": "stream",
     "text": [
      "WARNING:tensorflow:From C:\\Users\\Afsan\\AppData\\Local\\Continuum\\anaconda3\\lib\\site-packages\\keras\\backend\\tensorflow_backend.py:74: The name tf.get_default_graph is deprecated. Please use tf.compat.v1.get_default_graph instead.\n",
      "\n",
      "WARNING:tensorflow:From C:\\Users\\Afsan\\AppData\\Local\\Continuum\\anaconda3\\lib\\site-packages\\keras\\backend\\tensorflow_backend.py:517: The name tf.placeholder is deprecated. Please use tf.compat.v1.placeholder instead.\n",
      "\n",
      "WARNING:tensorflow:From C:\\Users\\Afsan\\AppData\\Local\\Continuum\\anaconda3\\lib\\site-packages\\keras\\backend\\tensorflow_backend.py:4138: The name tf.random_uniform is deprecated. Please use tf.random.uniform instead.\n",
      "\n"
     ]
    }
   ],
   "source": [
    "classifier = Sequential()\n",
    "classifier.add(Dense(units=6 , activation = \"relu\", kernel_initializer = 'uniform', input_dim = 11 ))\n",
    "classifier.add(Dense(units=6 , activation = \"relu\", kernel_initializer = 'uniform'))\n",
    "classifier.add(Dense(units=1 , activation = \"sigmoid\", kernel_initializer = 'uniform'))"
   ]
  },
  {
   "cell_type": "code",
   "execution_count": 19,
   "metadata": {},
   "outputs": [
    {
     "name": "stdout",
     "output_type": "stream",
     "text": [
      "WARNING:tensorflow:From C:\\Users\\Afsan\\AppData\\Local\\Continuum\\anaconda3\\lib\\site-packages\\keras\\optimizers.py:790: The name tf.train.Optimizer is deprecated. Please use tf.compat.v1.train.Optimizer instead.\n",
      "\n",
      "WARNING:tensorflow:From C:\\Users\\Afsan\\AppData\\Local\\Continuum\\anaconda3\\lib\\site-packages\\keras\\backend\\tensorflow_backend.py:3376: The name tf.log is deprecated. Please use tf.math.log instead.\n",
      "\n",
      "WARNING:tensorflow:From C:\\Users\\Afsan\\AppData\\Local\\Continuum\\anaconda3\\lib\\site-packages\\tensorflow_core\\python\\ops\\nn_impl.py:183: where (from tensorflow.python.ops.array_ops) is deprecated and will be removed in a future version.\n",
      "Instructions for updating:\n",
      "Use tf.where in 2.0, which has the same broadcast rule as np.where\n"
     ]
    }
   ],
   "source": [
    "classifier.compile(optimizer='adam' , metrics=['accuracy'] , loss = 'binary_crossentropy')"
   ]
  },
  {
   "cell_type": "code",
   "execution_count": 20,
   "metadata": {},
   "outputs": [
    {
     "name": "stdout",
     "output_type": "stream",
     "text": [
      "WARNING:tensorflow:From C:\\Users\\Afsan\\AppData\\Local\\Continuum\\anaconda3\\lib\\site-packages\\keras\\backend\\tensorflow_backend.py:986: The name tf.assign_add is deprecated. Please use tf.compat.v1.assign_add instead.\n",
      "\n",
      "WARNING:tensorflow:From C:\\Users\\Afsan\\AppData\\Local\\Continuum\\anaconda3\\lib\\site-packages\\keras\\backend\\tensorflow_backend.py:973: The name tf.assign is deprecated. Please use tf.compat.v1.assign instead.\n",
      "\n",
      "WARNING:tensorflow:From C:\\Users\\Afsan\\AppData\\Local\\Continuum\\anaconda3\\lib\\site-packages\\keras\\backend\\tensorflow_backend.py:2741: The name tf.Session is deprecated. Please use tf.compat.v1.Session instead.\n",
      "\n",
      "Epoch 1/100\n",
      "WARNING:tensorflow:From C:\\Users\\Afsan\\AppData\\Local\\Continuum\\anaconda3\\lib\\site-packages\\keras\\backend\\tensorflow_backend.py:174: The name tf.get_default_session is deprecated. Please use tf.compat.v1.get_default_session instead.\n",
      "\n",
      "WARNING:tensorflow:From C:\\Users\\Afsan\\AppData\\Local\\Continuum\\anaconda3\\lib\\site-packages\\keras\\backend\\tensorflow_backend.py:181: The name tf.ConfigProto is deprecated. Please use tf.compat.v1.ConfigProto instead.\n",
      "\n",
      "WARNING:tensorflow:From C:\\Users\\Afsan\\AppData\\Local\\Continuum\\anaconda3\\lib\\site-packages\\keras\\backend\\tensorflow_backend.py:190: The name tf.global_variables is deprecated. Please use tf.compat.v1.global_variables instead.\n",
      "\n",
      "WARNING:tensorflow:From C:\\Users\\Afsan\\AppData\\Local\\Continuum\\anaconda3\\lib\\site-packages\\keras\\backend\\tensorflow_backend.py:199: The name tf.is_variable_initialized is deprecated. Please use tf.compat.v1.is_variable_initialized instead.\n",
      "\n",
      "WARNING:tensorflow:From C:\\Users\\Afsan\\AppData\\Local\\Continuum\\anaconda3\\lib\\site-packages\\keras\\backend\\tensorflow_backend.py:206: The name tf.variables_initializer is deprecated. Please use tf.compat.v1.variables_initializer instead.\n",
      "\n",
      "7500/7500 [==============================] - 2s 312us/step - loss: 0.5965 - acc: 0.7941\n",
      "Epoch 2/100\n",
      "7500/7500 [==============================] - 1s 170us/step - loss: 0.5213 - acc: 0.7984\n",
      "Epoch 3/100\n",
      "7500/7500 [==============================] - 1s 164us/step - loss: 0.5134 - acc: 0.7984\n",
      "Epoch 4/100\n",
      "7500/7500 [==============================] - 1s 167us/step - loss: 0.5159 - acc: 0.7984\n",
      "Epoch 5/100\n",
      "7500/7500 [==============================] - 2s 201us/step - loss: 0.5004 - acc: 0.7984\n",
      "Epoch 6/100\n",
      "7500/7500 [==============================] - 1s 192us/step - loss: 0.4988 - acc: 0.7984\n",
      "Epoch 7/100\n",
      "7500/7500 [==============================] - 1s 170us/step - loss: 0.5016 - acc: 0.7984\n",
      "Epoch 8/100\n",
      "7500/7500 [==============================] - 1s 169us/step - loss: 0.4977 - acc: 0.7984\n",
      "Epoch 9/100\n",
      "7500/7500 [==============================] - 1s 168us/step - loss: 0.4992 - acc: 0.7984\n",
      "Epoch 10/100\n",
      "7500/7500 [==============================] - 1s 172us/step - loss: 0.4980 - acc: 0.7984\n",
      "Epoch 11/100\n",
      "7500/7500 [==============================] - 1s 164us/step - loss: 0.4975 - acc: 0.7984\n",
      "Epoch 12/100\n",
      "7500/7500 [==============================] - 1s 166us/step - loss: 0.4978 - acc: 0.7984\n",
      "Epoch 13/100\n",
      "7500/7500 [==============================] - 1s 170us/step - loss: 0.4972 - acc: 0.7984\n",
      "Epoch 14/100\n",
      "7500/7500 [==============================] - 1s 168us/step - loss: 0.4976 - acc: 0.7983\n",
      "Epoch 15/100\n",
      "7500/7500 [==============================] - 1s 169us/step - loss: 0.4959 - acc: 0.7984\n",
      "Epoch 16/100\n",
      "7500/7500 [==============================] - 1s 169us/step - loss: 0.4998 - acc: 0.7984\n",
      "Epoch 17/100\n",
      "7500/7500 [==============================] - 1s 197us/step - loss: 0.5023 - acc: 0.7984\n",
      "Epoch 18/100\n",
      "7500/7500 [==============================] - 1s 197us/step - loss: 0.5022 - acc: 0.7984\n",
      "Epoch 19/100\n",
      "7500/7500 [==============================] - 1s 169us/step - loss: 0.4997 - acc: 0.7984\n",
      "Epoch 20/100\n",
      "7500/7500 [==============================] - 1s 172us/step - loss: 0.4983 - acc: 0.7984\n",
      "Epoch 21/100\n",
      "7500/7500 [==============================] - 1s 169us/step - loss: 0.4988 - acc: 0.7984\n",
      "Epoch 22/100\n",
      "7500/7500 [==============================] - 1s 168us/step - loss: 0.4981 - acc: 0.7984\n",
      "Epoch 23/100\n",
      "7500/7500 [==============================] - 1s 170us/step - loss: 0.4968 - acc: 0.7984\n",
      "Epoch 24/100\n",
      "7500/7500 [==============================] - 1s 169us/step - loss: 0.4961 - acc: 0.7984\n",
      "Epoch 25/100\n",
      "7500/7500 [==============================] - 1s 171us/step - loss: 0.4959 - acc: 0.7984\n",
      "Epoch 26/100\n",
      "7500/7500 [==============================] - 1s 170us/step - loss: 0.4956 - acc: 0.7984\n",
      "Epoch 27/100\n",
      "7500/7500 [==============================] - 1s 170us/step - loss: 0.4954 - acc: 0.7984\n",
      "Epoch 28/100\n",
      "7500/7500 [==============================] - 1s 177us/step - loss: 0.4955 - acc: 0.7984\n",
      "Epoch 29/100\n",
      "7500/7500 [==============================] - 1s 186us/step - loss: 0.4954 - acc: 0.7984\n",
      "Epoch 30/100\n",
      "7500/7500 [==============================] - 2s 210us/step - loss: 0.4953 - acc: 0.7984\n",
      "Epoch 31/100\n",
      "7500/7500 [==============================] - 1s 172us/step - loss: 0.4952 - acc: 0.7984\n",
      "Epoch 32/100\n",
      "7500/7500 [==============================] - 1s 169us/step - loss: 0.4953 - acc: 0.7984\n",
      "Epoch 33/100\n",
      "7500/7500 [==============================] - 1s 171us/step - loss: 0.4952 - acc: 0.7984\n",
      "Epoch 34/100\n",
      "7500/7500 [==============================] - 1s 186us/step - loss: 0.4953 - acc: 0.7984\n",
      "Epoch 35/100\n",
      "7500/7500 [==============================] - 1s 169us/step - loss: 0.4952 - acc: 0.7984\n",
      "Epoch 36/100\n",
      "7500/7500 [==============================] - 1s 171us/step - loss: 0.4952 - acc: 0.7984\n",
      "Epoch 37/100\n",
      "7500/7500 [==============================] - 1s 169us/step - loss: 0.4952 - acc: 0.7984\n",
      "Epoch 38/100\n",
      "7500/7500 [==============================] - 1s 172us/step - loss: 0.4952 - acc: 0.7984\n",
      "Epoch 39/100\n",
      "7500/7500 [==============================] - 1s 173us/step - loss: 0.4953 - acc: 0.7984\n",
      "Epoch 40/100\n",
      "7500/7500 [==============================] - 1s 168us/step - loss: 0.4953 - acc: 0.7984\n",
      "Epoch 41/100\n",
      "7500/7500 [==============================] - 1s 175us/step - loss: 0.4953 - acc: 0.7984\n",
      "Epoch 42/100\n",
      "7500/7500 [==============================] - 2s 216us/step - loss: 0.4952 - acc: 0.7984\n",
      "Epoch 43/100\n",
      "7500/7500 [==============================] - 1s 175us/step - loss: 0.4952 - acc: 0.7984\n",
      "Epoch 44/100\n",
      "7500/7500 [==============================] - 1s 166us/step - loss: 0.4953 - acc: 0.7984\n",
      "Epoch 45/100\n",
      "7500/7500 [==============================] - 1s 167us/step - loss: 0.4952 - acc: 0.7984\n",
      "Epoch 46/100\n",
      "7500/7500 [==============================] - 1s 169us/step - loss: 0.4951 - acc: 0.7984\n",
      "Epoch 47/100\n",
      "7500/7500 [==============================] - 1s 172us/step - loss: 0.4950 - acc: 0.7984\n",
      "Epoch 48/100\n",
      "7500/7500 [==============================] - 1s 167us/step - loss: 0.4952 - acc: 0.7984\n",
      "Epoch 49/100\n",
      "7500/7500 [==============================] - 1s 167us/step - loss: 0.4952 - acc: 0.7984\n",
      "Epoch 50/100\n",
      "7500/7500 [==============================] - 1s 169us/step - loss: 0.4952 - acc: 0.7984\n",
      "Epoch 51/100\n",
      "7500/7500 [==============================] - 1s 168us/step - loss: 0.4952 - acc: 0.7984\n",
      "Epoch 52/100\n",
      "7500/7500 [==============================] - 1s 170us/step - loss: 0.4952 - acc: 0.7984\n",
      "Epoch 53/100\n",
      "7500/7500 [==============================] - 1s 167us/step - loss: 0.4953 - acc: 0.7984\n",
      "Epoch 54/100\n",
      "7500/7500 [==============================] - 1s 200us/step - loss: 0.4953 - acc: 0.7984\n",
      "Epoch 55/100\n",
      "7500/7500 [==============================] - 1s 194us/step - loss: 0.4951 - acc: 0.7984\n",
      "Epoch 56/100\n",
      "7500/7500 [==============================] - 1s 169us/step - loss: 0.4953 - acc: 0.7984\n",
      "Epoch 57/100\n",
      "7500/7500 [==============================] - 1s 169us/step - loss: 0.4952 - acc: 0.7984\n",
      "Epoch 58/100\n",
      "7500/7500 [==============================] - 1s 170us/step - loss: 0.4952 - acc: 0.7984\n",
      "Epoch 59/100\n",
      "7500/7500 [==============================] - 1s 175us/step - loss: 0.4952 - acc: 0.7984\n",
      "Epoch 60/100\n",
      "7500/7500 [==============================] - 1s 171us/step - loss: 0.4953 - acc: 0.7984\n",
      "Epoch 61/100\n",
      "7500/7500 [==============================] - 1s 173us/step - loss: 0.4952 - acc: 0.7984\n",
      "Epoch 62/100\n",
      "7500/7500 [==============================] - 1s 175us/step - loss: 0.4951 - acc: 0.7984\n",
      "Epoch 63/100\n",
      "7500/7500 [==============================] - 1s 173us/step - loss: 0.4952 - acc: 0.7984\n",
      "Epoch 64/100\n"
     ]
    },
    {
     "name": "stdout",
     "output_type": "stream",
     "text": [
      "7500/7500 [==============================] - 1s 162us/step - loss: 0.4953 - acc: 0.7984\n",
      "Epoch 65/100\n",
      "7500/7500 [==============================] - 1s 165us/step - loss: 0.4952 - acc: 0.7984\n",
      "Epoch 66/100\n",
      "7500/7500 [==============================] - 1s 199us/step - loss: 0.4952 - acc: 0.7984\n",
      "Epoch 67/100\n",
      "7500/7500 [==============================] - 1s 193us/step - loss: 0.4953 - acc: 0.7984\n",
      "Epoch 68/100\n",
      "7500/7500 [==============================] - 1s 163us/step - loss: 0.4952 - acc: 0.7984\n",
      "Epoch 69/100\n",
      "7500/7500 [==============================] - 1s 166us/step - loss: 0.4953 - acc: 0.7984\n",
      "Epoch 70/100\n",
      "7500/7500 [==============================] - 1s 163us/step - loss: 0.4953 - acc: 0.7984\n",
      "Epoch 71/100\n",
      "7500/7500 [==============================] - 1s 166us/step - loss: 0.4952 - acc: 0.7984\n",
      "Epoch 72/100\n",
      "7500/7500 [==============================] - 1s 163us/step - loss: 0.4951 - acc: 0.7984\n",
      "Epoch 73/100\n",
      "7500/7500 [==============================] - 1s 165us/step - loss: 0.4953 - acc: 0.7984\n",
      "Epoch 74/100\n",
      "7500/7500 [==============================] - 1s 162us/step - loss: 0.4952 - acc: 0.7984\n",
      "Epoch 75/100\n",
      "7500/7500 [==============================] - 1s 164us/step - loss: 0.4951 - acc: 0.7984\n",
      "Epoch 76/100\n",
      "7500/7500 [==============================] - 1s 165us/step - loss: 0.4951 - acc: 0.7984\n",
      "Epoch 77/100\n",
      "7500/7500 [==============================] - 1s 163us/step - loss: 0.4952 - acc: 0.7984\n",
      "Epoch 78/100\n",
      "7500/7500 [==============================] - 1s 167us/step - loss: 0.4953 - acc: 0.7984\n",
      "Epoch 79/100\n",
      "7500/7500 [==============================] - 2s 212us/step - loss: 0.4953 - acc: 0.7984\n",
      "Epoch 80/100\n",
      "7500/7500 [==============================] - 1s 169us/step - loss: 0.4951 - acc: 0.7984\n",
      "Epoch 81/100\n",
      "7500/7500 [==============================] - 1s 163us/step - loss: 0.4953 - acc: 0.7984\n",
      "Epoch 82/100\n",
      "7500/7500 [==============================] - 1s 163us/step - loss: 0.4952 - acc: 0.7984\n",
      "Epoch 83/100\n",
      "7500/7500 [==============================] - 1s 164us/step - loss: 0.4953 - acc: 0.7984\n",
      "Epoch 84/100\n",
      "7500/7500 [==============================] - 1s 166us/step - loss: 0.4953 - acc: 0.7984\n",
      "Epoch 85/100\n",
      "7500/7500 [==============================] - 1s 162us/step - loss: 0.4950 - acc: 0.7984\n",
      "Epoch 86/100\n",
      "7500/7500 [==============================] - 1s 165us/step - loss: 0.4952 - acc: 0.7984\n",
      "Epoch 87/100\n",
      "7500/7500 [==============================] - 1s 166us/step - loss: 0.4952 - acc: 0.7984\n",
      "Epoch 88/100\n",
      "7500/7500 [==============================] - 1s 166us/step - loss: 0.4953 - acc: 0.7984\n",
      "Epoch 89/100\n",
      "7500/7500 [==============================] - 1s 162us/step - loss: 0.4951 - acc: 0.7984\n",
      "Epoch 90/100\n",
      "7500/7500 [==============================] - 1s 163us/step - loss: 0.4952 - acc: 0.7984\n",
      "Epoch 91/100\n",
      "7500/7500 [==============================] - 1s 183us/step - loss: 0.4953 - acc: 0.7984\n",
      "Epoch 92/100\n",
      "7500/7500 [==============================] - 2s 205us/step - loss: 0.4951 - acc: 0.7984\n",
      "Epoch 93/100\n",
      "7500/7500 [==============================] - 1s 168us/step - loss: 0.4952 - acc: 0.7984\n",
      "Epoch 94/100\n",
      "7500/7500 [==============================] - 1s 164us/step - loss: 0.4952 - acc: 0.7984\n",
      "Epoch 95/100\n",
      "7500/7500 [==============================] - 1s 169us/step - loss: 0.4953 - acc: 0.7984\n",
      "Epoch 96/100\n",
      "7500/7500 [==============================] - 1s 167us/step - loss: 0.4953 - acc: 0.7984\n",
      "Epoch 97/100\n",
      "7500/7500 [==============================] - 1s 164us/step - loss: 0.4952 - acc: 0.7984\n",
      "Epoch 98/100\n",
      "7500/7500 [==============================] - 1s 170us/step - loss: 0.4952 - acc: 0.7984\n",
      "Epoch 99/100\n",
      "7500/7500 [==============================] - 1s 165us/step - loss: 0.4952 - acc: 0.7984\n",
      "Epoch 100/100\n",
      "7500/7500 [==============================] - 1s 174us/step - loss: 0.4953 - acc: 0.7984\n"
     ]
    },
    {
     "data": {
      "text/plain": [
       "<keras.callbacks.History at 0x2438465cb48>"
      ]
     },
     "execution_count": 20,
     "metadata": {},
     "output_type": "execute_result"
    }
   ],
   "source": [
    "classifier.fit(X_train,\n",
    "               y_train,\n",
    "               epochs = 100,\n",
    "               batch_size=10\n",
    "               )"
   ]
  },
  {
   "cell_type": "code",
   "execution_count": 25,
   "metadata": {},
   "outputs": [],
   "source": [
    "y_pred = classifier.predict(X_test)"
   ]
  },
  {
   "cell_type": "code",
   "execution_count": 31,
   "metadata": {},
   "outputs": [],
   "source": [
    "y_pred = (y_pred > 0.5)"
   ]
  },
  {
   "cell_type": "code",
   "execution_count": 32,
   "metadata": {},
   "outputs": [
    {
     "data": {
      "text/plain": [
       "array([[False],\n",
       "       [False],\n",
       "       [False],\n",
       "       ...,\n",
       "       [False],\n",
       "       [False],\n",
       "       [False]])"
      ]
     },
     "execution_count": 32,
     "metadata": {},
     "output_type": "execute_result"
    }
   ],
   "source": [
    "y_pred"
   ]
  },
  {
   "cell_type": "code",
   "execution_count": 33,
   "metadata": {},
   "outputs": [
    {
     "data": {
      "text/plain": [
       "0.79"
      ]
     },
     "execution_count": 33,
     "metadata": {},
     "output_type": "execute_result"
    }
   ],
   "source": [
    "from sklearn.metrics import confusion_matrix , accuracy_score\n",
    "accuracy_score(y_test,y_pred)"
   ]
  },
  {
   "cell_type": "code",
   "execution_count": 39,
   "metadata": {},
   "outputs": [
    {
     "data": {
      "text/plain": [
       "array([[1975,    0],\n",
       "       [ 525,    0]], dtype=int64)"
      ]
     },
     "execution_count": 39,
     "metadata": {},
     "output_type": "execute_result"
    }
   ],
   "source": [
    "confusion_matrix(y_test,y_pred)"
   ]
  },
  {
   "cell_type": "code",
   "execution_count": null,
   "metadata": {},
   "outputs": [],
   "source": []
  }
 ],
 "metadata": {
  "kernelspec": {
   "display_name": "Python 3",
   "language": "python",
   "name": "python3"
  },
  "language_info": {
   "codemirror_mode": {
    "name": "ipython",
    "version": 3
   },
   "file_extension": ".py",
   "mimetype": "text/x-python",
   "name": "python",
   "nbconvert_exporter": "python",
   "pygments_lexer": "ipython3",
   "version": "3.7.4"
  }
 },
 "nbformat": 4,
 "nbformat_minor": 2
}
